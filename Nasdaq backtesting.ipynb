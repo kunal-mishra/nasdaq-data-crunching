{
 "cells": [
  {
   "cell_type": "code",
   "execution_count": 161,
   "metadata": {},
   "outputs": [],
   "source": [
    "import numpy as np\n",
    "import pandas as pd\n",
    "import datetime \n"
   ]
  },
  {
   "cell_type": "code",
   "execution_count": 162,
   "metadata": {},
   "outputs": [
    {
     "name": "stdout",
     "output_type": "stream",
     "text": [
      "                        Open     High      Low     Last  Volume\n",
      "Timestamp                                                      \n",
      "2009-11-27 03:26:00  3756.25  3756.50  3756.25  3756.50       4\n",
      "2009-11-27 04:54:00  3750.50  3750.50  3750.50  3750.50       1\n",
      "2009-11-27 05:00:00  3746.50  3748.75  3745.25  3745.25      10\n",
      "2009-11-27 05:48:00  3740.75  3740.75  3740.75  3740.75       1\n",
      "2009-11-27 06:19:00  3742.00  3742.00  3742.00  3742.00       1\n"
     ]
    }
   ],
   "source": [
    "#data prep\n",
    "p1 = r'C:\\Users\\kunal.mishra\\Downloads\\NQH25-CME-BarStudyData.csv'\n",
    "\n",
    "df_1m = pd.read_csv(p1)\n",
    "df_1m.columns = df_1m.columns.str.strip()\n",
    "df_1m['Timestamp'] = pd.to_datetime(df_1m['Date'] + ' ' + df_1m['Time'])\n",
    "df_1m.set_index(df_1m['Timestamp'],inplace=True)\n",
    "\n",
    "df_1m.drop(columns = ['Date','Time'], inplace = True)\n",
    "df_1m.drop(columns = df_1m.columns[-9:],axis = 1, inplace = True) #dropping irrelevant columns \n",
    "\n",
    "df_1m.dropna(inplace=True)\n",
    "print(df_1m.head())\n",
    "\n",
    "df_5m = df_1m.resample('5min').aggregate({\n",
    "    'Open':'first',\n",
    "    'High':'max',\n",
    "    'Low':'min',\n",
    "    'Last':'last'\n",
    "})\n",
    "df_15m = df_1m.resample('15min').aggregate({\n",
    "    'Open':'first',\n",
    "    'High':'max',\n",
    "    'Low':'min',\n",
    "    'Last':'last'\n",
    "})\n",
    "\n",
    "df_5m.dropna(inplace=True)\n",
    "df_15m.dropna(inplace=True)\n"
   ]
  },
  {
   "cell_type": "code",
   "execution_count": 163,
   "metadata": {},
   "outputs": [
    {
     "name": "stdout",
     "output_type": "stream",
     "text": [
      "            Timestamp     Open     High      Low     Last  Range High  \\\n",
      "0 2009-11-27 14:30:00  3750.25  3753.00  3746.25  3753.00      3763.0   \n",
      "1 2009-11-27 14:35:00  3755.50  3756.50  3755.50  3756.50      3763.0   \n",
      "2 2009-11-27 14:40:00  3756.75  3763.00  3756.75  3763.00      3763.0   \n",
      "3 2009-11-27 14:45:00  3757.75  3758.00  3757.75  3758.00      3763.0   \n",
      "4 2009-11-27 14:50:00  3761.75  3761.75  3761.75  3761.75      3763.0   \n",
      "\n",
      "   Range Low  \n",
      "0    3746.25  \n",
      "1    3746.25  \n",
      "2    3746.25  \n",
      "3    3746.25  \n",
      "4    3746.25  \n"
     ]
    }
   ],
   "source": [
    "# range formation\n",
    "\n",
    "NrmlOpenTime = datetime.time(13,30)\n",
    "NrmlClose = datetime.time(13,45)\n",
    "\n",
    "DaylightOpenTime = datetime.time(14,30)\n",
    "DaylightClose = datetime.time(14,45)\n",
    "\n",
    "NrmlMonth = list(range(3,11))\n",
    "DaylightMonth = [11,12,1,2]\n",
    "\n",
    "    #data drop prior to US open \n",
    "df_5m = df_5m[((df_5m.index.month.isin(NrmlMonth)) & (df_5m.index.time >= NrmlOpenTime)) | ((df_5m.index.month.isin(DaylightMonth)) & (df_5m.index.time >= DaylightOpenTime))]  \n",
    "\n",
    "range_mask_nrml = ((df_5m.index.month.isin(NrmlMonth)) & ((df_5m.index.time >= NrmlOpenTime) & (df_5m.index.time <= NrmlClose)))\n",
    "range_mask_dayLight = ((df_5m.index.month.isin(DaylightMonth)) & ((df_5m.index.time >= DaylightOpenTime) & (df_5m.index.time <= DaylightClose)))\n",
    "range_final = range_mask_nrml | range_mask_dayLight\n",
    "\n",
    "\n",
    "df_5m.loc[range_final,'Range High'] = df_5m.loc[range_final].groupby(df_5m.loc[range_final].index.date)['High'].transform('max')\n",
    "df_5m.loc[range_final,'Range Low'] =  df_5m.loc[range_final].groupby(df_5m.loc[range_final].index.date)['Low'].transform('min')\n",
    "\n",
    "df_5m['Range High'] = df_5m.groupby(df_5m.index.date)['Range High'].ffill()\n",
    "df_5m['Range Low'] = df_5m.groupby(df_5m.index.date)['Range Low'].ffill()\n",
    "df_5m.dropna(inplace=True)\n",
    "df_5m.reset_index(inplace=True)\n",
    "print(df_5m.head())\n"
   ]
  },
  {
   "cell_type": "code",
   "execution_count": 164,
   "metadata": {},
   "outputs": [],
   "source": [
    "#trade analysis\n",
    "\n",
    "df_5m['Entry'] = 0\n",
    "df_5m['Exit'] = 0\n",
    "\n",
    "tick_size = 0.25\n",
    "tick_value = 0.5\n",
    "lot_size = 1\n",
    "tick_sl = 200*tick_size  # 200 ticks for SL\n",
    "\n",
    "i = 0\n",
    "while i < len(df_5m):\n",
    "\n",
    "    current_day = df_5m.at[i,'Timestamp'].date()\n",
    "    current_price = df_5m.at[i,'Last']\n",
    "    range_high = df_5m.at[i,'Range High']\n",
    "    range_low = df_5m.at[i,'Range Low']\n",
    "\n",
    "    long_sl = range_high - tick_sl\n",
    "    short_sl = range_low + tick_sl \n",
    "\n",
    "    #lot_size = round((risk_per_trade)/(((range_high - range_low) / tick_size)*tick_value))\n",
    "\n",
    "    high_break = current_price > range_high\n",
    "    low_break = current_price < range_low\n",
    "    \n",
    "    if high_break:\n",
    "        df_5m.at[i,'Entry'] = 1*lot_size\n",
    "        \n",
    "        trade_day = current_day\n",
    "        while trade_day == current_day:\n",
    " \n",
    "            if df_5m.at[i,'Last'] <= long_sl:\n",
    "                df_5m.at[i,'Exit'] = -1*lot_size\n",
    "                break \n",
    "            \n",
    "            i+=1\n",
    "            if i >= len(df_5m):              #out of bounds \n",
    "                df_5m.at[i-1,'Exit'] = -1*lot_size\n",
    "                break\n",
    "\n",
    "            trade_day = df_5m.at[i,'Timestamp'].date()\n",
    "            if trade_day != current_day:\n",
    "                df_5m.at[i-1,'Exit'] = -1*lot_size\n",
    "\n",
    "    elif low_break:\n",
    "        df_5m.at[i,'Entry'] = -1*lot_size\n",
    "        \n",
    "        trade_day = current_day\n",
    "        while trade_day == current_day:\n",
    "\n",
    "            if df_5m.at[i,'Last'] >= short_sl:\n",
    "                df_5m.at[i,'Exit'] = 1*lot_size\n",
    "                break\n",
    "            \n",
    "            i+=1\n",
    "            if i >= len(df_5m):\n",
    "                df_5m.at[i-1,'Exit'] = 1*lot_size\n",
    "                break\n",
    "\n",
    "            trade_day = df_5m.at[i,'Timestamp'].date()\n",
    "            if trade_day!=current_day:\n",
    "                df_5m.at[i-1,'Exit'] = 1*lot_size\n",
    "\n",
    "\n",
    "    i+=1\n"
   ]
  },
  {
   "cell_type": "code",
   "execution_count": 165,
   "metadata": {},
   "outputs": [
    {
     "name": "stdout",
     "output_type": "stream",
     "text": [
      "Cummulative Pnl  = -85175.5\n",
      "Hit ratio = 0.54\n",
      "AVerage RR = 0.93\n",
      "Pnl Std dev  = 19461.34\n",
      "Trade Freq = 1.4998689384010484\n",
      "Sharpe = -0.036262261721015966\n"
     ]
    }
   ],
   "source": [
    "#trade stats\n",
    "rt_cost = 0.5\n",
    "\n",
    "df_5m_entry = df_5m.loc[df_5m['Entry']!=0,['Timestamp','Entry','Last']] \n",
    "df_5m_entry.rename(columns={'Last':'Entry Price','Timestamp':'Entry Time'},inplace  =True)\n",
    "df_5m_exit = df_5m.loc[df_5m['Exit']!=0,['Timestamp','Exit','Last']] \n",
    "df_5m_exit.rename(columns={'Last':'Exit Price','Timestamp':'Exit Time'},inplace  =True)\n",
    "\n",
    "df_5m_entry.reset_index(drop = True, inplace = True)\n",
    "df_5m_exit.reset_index(drop = True, inplace = True)\n",
    "df_stats = pd.concat([df_5m_entry,df_5m_exit], axis = 1)\n",
    "\n",
    "df_stats['Trade Duration (hours)'] = (df_stats['Exit Time']-df_stats['Entry Time']).dt.total_seconds()/3600\n",
    "df_stats['Gross($)'] = ((df_stats['Entry']*df_stats['Entry Price'] + df_stats['Exit']*df_stats['Exit Price']) / tick_size)*tick_value\n",
    "df_stats['Cost'] = abs(df_stats['Entry'])*rt_cost\n",
    "df_stats['Net($)'] = df_stats['Gross($)'] - df_stats['Cost']\n",
    "df_stats['Cummulative'] = df_stats['Net($)'].cumsum()\n",
    "\n",
    "print(f\"Cummulative Pnl  = {df_stats['Net($)'].sum()}\")\n",
    "print(f\"Hit ratio = {(df_stats['Net($)']>0).sum() / df_stats['Net($)'].count():.2f}\")\n",
    "print(f\"AVerage RR = {df_stats.loc[df_stats['Gross($)']>0,'Gross($)'].sum() / abs(df_stats.loc[df_stats['Gross($)']<0,'Gross($)'].sum()):.2f}\")\n",
    "print(f\"Pnl Std dev  = {df_stats['Cummulative'].std():.2f}\")\n",
    "print(f\"Trade Freq = {df_stats.shape[0] / len((df_5m['Timestamp'].dt.date).unique())}\")\n",
    "print(f\"Sharpe = {df_stats['Net($)'].mean()/df_stats['Net($)'].std()}\")"
   ]
  },
  {
   "cell_type": "code",
   "execution_count": 166,
   "metadata": {},
   "outputs": [
    {
     "data": {
      "text/plain": [
       "Text(0, 0.5, 'Cum PnL')"
      ]
     },
     "execution_count": 166,
     "metadata": {},
     "output_type": "execute_result"
    },
    {
     "data": {
      "image/png": "[encoded data removed]",
      "text/plain": [
       "<Figure size 640x480 with 1 Axes>"
      ]
     },
     "metadata": {},
     "output_type": "display_data"
    }
   ],
   "source": [
    "import matplotlib.pyplot as plt\n",
    "\n",
    "plt.plot(df_stats['Entry Time'].dt.date,df_stats['Cummulative'],color = 'blue')\n",
    "plt.title('MNQ Equity Curve')\n",
    "plt.xlabel('Time')\n",
    "plt.ylabel('Cum PnL')"
   ]
  }
 ],
 "metadata": {
  "kernelspec": {
   "display_name": "venv3.11",
   "language": "python",
   "name": "python3"
  },
  "language_info": {
   "codemirror_mode": {
    "name": "ipython",
    "version": 3
   },
   "file_extension": ".py",
   "mimetype": "text/x-python",
   "name": "python",
   "nbconvert_exporter": "python",
   "pygments_lexer": "ipython3",
   "version": "3.9.13"
  }
 },
 "nbformat": 4,
 "nbformat_minor": 2
}
